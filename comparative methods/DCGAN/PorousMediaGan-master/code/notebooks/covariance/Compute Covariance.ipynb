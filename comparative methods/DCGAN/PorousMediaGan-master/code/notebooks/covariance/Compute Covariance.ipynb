{
 "cells": [
  {
   "cell_type": "code",
   "execution_count": 1,
   "metadata": {
    "collapsed": false
   },
   "outputs": [],
   "source": [
    "import numpy as np\n",
    "import tifffile\n",
    "from utilities import two_point_correlation\n",
    "import pandas as pd\n",
    "from tqdm import tnrange"
   ]
  },
  {
   "cell_type": "markdown",
   "metadata": {},
   "source": [
    "## File Directories\n",
    "\n",
    "We specify here the file directories and endings for each of the images.  \n",
    "This allows all computations to be made within one notebook and reduces number of necessary notebooks."
   ]
  },
  {
   "cell_type": "code",
   "execution_count": 2,
   "metadata": {
    "collapsed": false
   },
   "outputs": [],
   "source": [
    "#strings to output and input locations\n",
    "beadpack_dic = {\n",
    "    \"orig_input\": \"../../../data/beadpack/original/tiff/beadpack.tif\",\n",
    "    \"synthetic_input\": \"../../../data/beadpack/sampled/postprocessed/dcgan_200_epoch_210/beadpack_200_\",\n",
    "    \"synthetic_ending\": \".tiff\",\n",
    "    \"out_direc\": \"../../../analysis/covariance/beadpack/\",\n",
    "    \"seed_min\": 43,\n",
    "    \"seed_max\": 64\n",
    "}\n",
    "\n",
    "berea_dic = {\n",
    "    \"orig_input\": \"../../../data/berea/original/raw/berea.tif\",\n",
    "    \"synthetic_input\": \"../../../data/berea/sampled/postprocessed/tiff/dcgan_200/berea_generated_\",\n",
    "    \"synthetic_ending\": \"_crop.tiff\",\n",
    "    \"out_direc\": \"../../../analysis/covariance/berea/\",\n",
    "    \"seed_min\": 43,\n",
    "    \"seed_max\": 64\n",
    "}\n",
    "\n",
    "ketton_dic = {\n",
    "    \"orig_input\": \"../../../data/ketton/original/raw/ketton.tif\",\n",
    "    \"synthetic_input\": \"../../../data/ketton/sampled/postprocessed/tiff/200/ketton_desp_64_\",\n",
    "    \"synthetic_ending\": \".tiff\",\n",
    "    \"out_direc\": \"../../../analysis/covariance/ketton/\",\n",
    "    \"seed_min\": 43,\n",
    "    \"seed_max\": 64\n",
    "}"
   ]
  },
  {
   "cell_type": "code",
   "execution_count": 3,
   "metadata": {
    "collapsed": true
   },
   "outputs": [],
   "source": [
    "data_dic = ketton_dic\n",
    "orig_img = tifffile.imread(data_dic[\"orig_input\"])\n",
    "out_direc = data_dic[\"out_direc\"]\n",
    "synthetic_input = data_dic[\"synthetic_input\"]\n",
    "synthetic_ending = data_dic[\"synthetic_ending\"]\n",
    "seed_min, seed_max = data_dic[\"seed_min\"], data_dic[\"seed_max\"]"
   ]
  },
  {
   "cell_type": "markdown",
   "metadata": {},
   "source": [
    "## Data Loading\n",
    "\n",
    "We load the dataset of the original segmented training image and get the largest and smallest value in the dataset.  \n",
    "This is necessary due to different images may be [0-1] or [0-255] segmented.  \n",
    "Therefore we make this check before hand to compute for the correct phase."
   ]
  },
  {
   "cell_type": "code",
   "execution_count": 4,
   "metadata": {
    "collapsed": false
   },
   "outputs": [
    {
     "name": "stdout",
     "output_type": "stream",
     "text": [
      "Pore Phase Value:  0\n",
      "Grain Phase Value:  255\n"
     ]
    }
   ],
   "source": [
    "pore_phase = orig_img.min()\n",
    "grain_phase = orig_img.max()\n",
    "print \"Pore Phase Value: \", pore_phase\n",
    "print \"Grain Phase Value: \", grain_phase"
   ]
  },
  {
   "cell_type": "markdown",
   "metadata": {},
   "source": [
    "## Covariance Computation - Pore Phase\n",
    "\n",
    "We make use of a helper function in utilities.py to compute the covariance in each cartesian direction.  \n",
    "The resulting dataset is a cube of the average counts at each distance $r$ for each value in the plane of computation."
   ]
  },
  {
   "cell_type": "code",
   "execution_count": 5,
   "metadata": {
    "collapsed": false
   },
   "outputs": [],
   "source": [
    "two_point_covariance_pore_phase_orig = {}\n",
    "for i, direc in enumerate([\"x\", \"y\", \"z\"]):\n",
    "    two_point_direc = two_point_correlation(orig_img, i, var=pore_phase)\n",
    "    two_point_covariance_pore_phase_orig[direc] = two_point_direc"
   ]
  },
  {
   "cell_type": "markdown",
   "metadata": {},
   "source": [
    "We now average in the first two dimensions e.g. covariance in x-direction, average across y, z directions  \n",
    "to obtain the directional covariance. Perform this for all three directions."
   ]
  },
  {
   "cell_type": "code",
   "execution_count": 6,
   "metadata": {
    "collapsed": false
   },
   "outputs": [
    {
     "name": "stdout",
     "output_type": "stream",
     "text": [
      "(256L,)\n"
     ]
    }
   ],
   "source": [
    "direc_covariances_pore_phase_orig = {}\n",
    "for direc in [\"x\", \"y\", \"z\"]:\n",
    "    direc_covariances_pore_phase_orig[direc] = np.mean(np.mean(two_point_covariance_pore_phase_orig[direc], axis=0), axis=0)\n",
    "print direc_covariances_pore_phase_orig[\"x\"].shape"
   ]
  },
  {
   "cell_type": "markdown",
   "metadata": {},
   "source": [
    "We store the computed covariance in a csv file for later plotting and computation purposes.  \n",
    "We also perform a sanity check: the covariance at the origin should equal the porosity of the image for the pore phase,\n",
    "and 1-porosity for the grain phase."
   ]
  },
  {
   "cell_type": "code",
   "execution_count": 7,
   "metadata": {
    "collapsed": false
   },
   "outputs": [
    {
     "data": {
      "text/html": [
       "<div>\n",
       "<table border=\"1\" class=\"dataframe\">\n",
       "  <thead>\n",
       "    <tr style=\"text-align: right;\">\n",
       "      <th></th>\n",
       "      <th>x</th>\n",
       "      <th>y</th>\n",
       "      <th>z</th>\n",
       "    </tr>\n",
       "  </thead>\n",
       "  <tbody>\n",
       "    <tr>\n",
       "      <th>0</th>\n",
       "      <td>0.126862</td>\n",
       "      <td>0.126862</td>\n",
       "      <td>0.126862</td>\n",
       "    </tr>\n",
       "    <tr>\n",
       "      <th>1</th>\n",
       "      <td>0.109027</td>\n",
       "      <td>0.111406</td>\n",
       "      <td>0.110832</td>\n",
       "    </tr>\n",
       "    <tr>\n",
       "      <th>2</th>\n",
       "      <td>0.094193</td>\n",
       "      <td>0.098307</td>\n",
       "      <td>0.097267</td>\n",
       "    </tr>\n",
       "    <tr>\n",
       "      <th>3</th>\n",
       "      <td>0.081682</td>\n",
       "      <td>0.087207</td>\n",
       "      <td>0.085761</td>\n",
       "    </tr>\n",
       "    <tr>\n",
       "      <th>4</th>\n",
       "      <td>0.071046</td>\n",
       "      <td>0.077693</td>\n",
       "      <td>0.075923</td>\n",
       "    </tr>\n",
       "  </tbody>\n",
       "</table>\n",
       "</div>"
      ],
      "text/plain": [
       "          x         y         z\n",
       "0  0.126862  0.126862  0.126862\n",
       "1  0.109027  0.111406  0.110832\n",
       "2  0.094193  0.098307  0.097267\n",
       "3  0.081682  0.087207  0.085761\n",
       "4  0.071046  0.077693  0.075923"
      ]
     },
     "execution_count": 7,
     "metadata": {},
     "output_type": "execute_result"
    }
   ],
   "source": [
    "covariance_orig_df = pd.DataFrame(direc_covariances_pore_phase_orig)\n",
    "covariance_orig_df.to_csv(out_direc+\"orig_pph.csv\", delim=\",\", index=False)\n",
    "\n",
    "covariances_orig_df_backload = pd.read_csv(out_direc+\"orig_pph.csv\")\n",
    "covariances_orig_df_backload.head()"
   ]
  },
  {
   "cell_type": "markdown",
   "metadata": {},
   "source": [
    "Due to the large size of these arrays we delete them manually before continuing to free up memory."
   ]
  },
  {
   "cell_type": "code",
   "execution_count": 8,
   "metadata": {
    "collapsed": true
   },
   "outputs": [],
   "source": [
    "del two_point_covariance_pore_phase_orig\n",
    "del two_point_direc"
   ]
  },
  {
   "cell_type": "markdown",
   "metadata": {},
   "source": [
    "## Covariance Computation - Grain Phase\n",
    "\n",
    "We perform the same computation as above, but exchange for the grain phase value of the image."
   ]
  },
  {
   "cell_type": "code",
   "execution_count": 9,
   "metadata": {
    "collapsed": true
   },
   "outputs": [],
   "source": [
    "two_point_covariance_grain_phase_orig = {}\n",
    "for i, direc in enumerate([\"x\", \"y\", \"z\"]):\n",
    "    two_point_direc = two_point_correlation(orig_img, i, var=grain_phase)\n",
    "    two_point_covariance_grain_phase_orig[direc] = two_point_direc"
   ]
  },
  {
   "cell_type": "code",
   "execution_count": 10,
   "metadata": {
    "collapsed": false
   },
   "outputs": [
    {
     "name": "stdout",
     "output_type": "stream",
     "text": [
      "(256L,)\n"
     ]
    }
   ],
   "source": [
    "direc_covariances_grain_phase_orig = {}\n",
    "for direc in [\"x\", \"y\", \"z\"]:\n",
    "    direc_covariances_grain_phase_orig[direc] = np.mean(np.mean(two_point_covariance_grain_phase_orig[direc], axis=0), axis=0)\n",
    "print direc_covariances_grain_phase_orig[\"x\"].shape"
   ]
  },
  {
   "cell_type": "code",
   "execution_count": 11,
   "metadata": {
    "collapsed": false
   },
   "outputs": [
    {
     "data": {
      "text/html": [
       "<div>\n",
       "<table border=\"1\" class=\"dataframe\">\n",
       "  <thead>\n",
       "    <tr style=\"text-align: right;\">\n",
       "      <th></th>\n",
       "      <th>x</th>\n",
       "      <th>y</th>\n",
       "      <th>z</th>\n",
       "    </tr>\n",
       "  </thead>\n",
       "  <tbody>\n",
       "    <tr>\n",
       "      <th>0</th>\n",
       "      <td>0.873138</td>\n",
       "      <td>0.873138</td>\n",
       "      <td>0.873138</td>\n",
       "    </tr>\n",
       "    <tr>\n",
       "      <th>1</th>\n",
       "      <td>0.855445</td>\n",
       "      <td>0.857769</td>\n",
       "      <td>0.856924</td>\n",
       "    </tr>\n",
       "    <tr>\n",
       "      <th>2</th>\n",
       "      <td>0.840770</td>\n",
       "      <td>0.844745</td>\n",
       "      <td>0.843168</td>\n",
       "    </tr>\n",
       "    <tr>\n",
       "      <th>3</th>\n",
       "      <td>0.828417</td>\n",
       "      <td>0.833715</td>\n",
       "      <td>0.831490</td>\n",
       "    </tr>\n",
       "    <tr>\n",
       "      <th>4</th>\n",
       "      <td>0.817951</td>\n",
       "      <td>0.824284</td>\n",
       "      <td>0.821499</td>\n",
       "    </tr>\n",
       "  </tbody>\n",
       "</table>\n",
       "</div>"
      ],
      "text/plain": [
       "          x         y         z\n",
       "0  0.873138  0.873138  0.873138\n",
       "1  0.855445  0.857769  0.856924\n",
       "2  0.840770  0.844745  0.843168\n",
       "3  0.828417  0.833715  0.831490\n",
       "4  0.817951  0.824284  0.821499"
      ]
     },
     "execution_count": 11,
     "metadata": {},
     "output_type": "execute_result"
    }
   ],
   "source": [
    "covariance_orig_df = pd.DataFrame(direc_covariances_grain_phase_orig)\n",
    "covariance_orig_df.to_csv(out_direc+\"orig_gph.csv\", delim=\",\", index=False)\n",
    "\n",
    "covariances_orig_df_backload = pd.read_csv(out_direc+\"orig_gph.csv\")\n",
    "covariances_orig_df_backload.head()"
   ]
  },
  {
   "cell_type": "markdown",
   "metadata": {},
   "source": [
    "The covariance at the origin should be equal for all three directions and be equal to 1-porosity."
   ]
  },
  {
   "cell_type": "code",
   "execution_count": 12,
   "metadata": {
    "collapsed": true
   },
   "outputs": [],
   "source": [
    "del two_point_covariance_grain_phase_orig\n",
    "del two_point_direc"
   ]
  },
  {
   "cell_type": "markdown",
   "metadata": {},
   "source": [
    "## Covariance Computation - Synthetic Samples - Pore Phase\n",
    "\n",
    "We now perform above computation for the pore phase of the synthetic samples and store the results in csv files."
   ]
  },
  {
   "cell_type": "code",
   "execution_count": 13,
   "metadata": {
    "collapsed": false
   },
   "outputs": [
    {
     "name": "stdout",
     "output_type": "stream",
     "text": [
      "\n"
     ]
    }
   ],
   "source": [
    "for seed in tnrange(seed_min, seed_max):\n",
    "    im_in = tifffile.imread(synthetic_input+str(seed)+synthetic_ending)\n",
    "    image = im_in.astype(np.int8)\n",
    "    \n",
    "    #determine phase values\n",
    "    pore_phase = image.min()\n",
    "    grain_phase = image.max()\n",
    "    \n",
    "    for phase, phase_label in zip([pore_phase, grain_phase], [\"pph\", \"gph\"]):\n",
    "        #phase computation\n",
    "        two_point_covariance = {}\n",
    "        for i, direc in enumerate([\"x\", \"y\", \"z\"]):\n",
    "            two_point_direc = two_point_correlation(image, i, var=phase)\n",
    "            two_point_covariance[direc] = two_point_direc\n",
    "\n",
    "        #phase averaging\n",
    "        direc_covariances = {}\n",
    "        for direc in [\"x\", \"y\", \"z\"]:\n",
    "            direc_covariances[direc] = np.mean(np.mean(two_point_covariance[direc], axis=0), axis=0)\n",
    "\n",
    "        #covariance storage\n",
    "        covariance_df = pd.DataFrame(direc_covariances)\n",
    "        covariance_df.to_csv(out_direc +\"S_\"+str(seed)+\"_\"+phase_label+\".csv\", delim=\",\", index=False)"
   ]
  },
  {
   "cell_type": "markdown",
   "metadata": {},
   "source": [
    "We probably may shutdown the notebook after this, but to be sure we delete these, because they may hog all of the RAM."
   ]
  },
  {
   "cell_type": "code",
   "execution_count": 14,
   "metadata": {
    "collapsed": true
   },
   "outputs": [],
   "source": [
    "del im_in\n",
    "del image\n",
    "del two_point_covariance\n",
    "del direc_covariances\n",
    "del covariance_df"
   ]
  }
 ],
 "metadata": {
  "anaconda-cloud": {},
  "kernelspec": {
   "display_name": "Python 2",
   "language": "python",
   "name": "python2"
  },
  "language_info": {
   "codemirror_mode": {
    "name": "ipython",
    "version": 2
   },
   "file_extension": ".py",
   "mimetype": "text/x-python",
   "name": "python",
   "nbconvert_exporter": "python",
   "pygments_lexer": "ipython2",
   "version": "2.7.11"
  }
 },
 "nbformat": 4,
 "nbformat_minor": 1
}
