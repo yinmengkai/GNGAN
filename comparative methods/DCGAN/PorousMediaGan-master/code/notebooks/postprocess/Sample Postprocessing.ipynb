{
 "cells": [
  {
   "cell_type": "code",
   "execution_count": 6,
   "metadata": {
    "collapsed": true
   },
   "outputs": [],
   "source": [
    "import numpy as np\n",
    "import h5py\n",
    "import tifffile\n",
    "from scipy.ndimage.filters import median_filter\n",
    "from skimage.filters import threshold_otsu\n",
    "from collections import Counter"
   ]
  },
  {
   "cell_type": "markdown",
   "metadata": {},
   "source": [
    "## Processing of a single image"
   ]
  },
  {
   "cell_type": "markdown",
   "metadata": {},
   "source": [
    "## Loading the HDF5 file and converting to tiff"
   ]
  },
  {
   "cell_type": "code",
   "execution_count": 2,
   "metadata": {
    "collapsed": false
   },
   "outputs": [
    {
     "name": "stdout",
     "output_type": "stream",
     "text": [
      "(288L, 288L, 288L)\n"
     ]
    }
   ],
   "source": [
    "f = h5py.File(\"example_sample.hdf5\", 'r')\n",
    "my_array = f['data'][()]\n",
    "img = my_array[0, 0, :, :, :].astype(np.float32)\n",
    "tifffile.imsave(\"example_converted.tiff\",  img)\n",
    "print img.shape"
   ]
  },
  {
   "cell_type": "markdown",
   "metadata": {},
   "source": [
    "## Denoising and thresholding"
   ]
  },
  {
   "cell_type": "code",
   "execution_count": 4,
   "metadata": {
    "collapsed": false
   },
   "outputs": [],
   "source": [
    "im_in = tifffile.imread(\"example_converted.tiff\")\n",
    "\n",
    "#apply single pixel denoising\n",
    "im_in = median_filter(im_in, size=(3, 3, 3))\n",
    "\n",
    "#cutaway outer noise area\n",
    "im_in = im_in[40:240, 40:240, 40:240]\n",
    "\n",
    "#Normalize to range zero and one\n",
    "im_in = im_in/255.\n",
    "\n",
    "#Threshhold Image\n",
    "threshold_global_otsu = threshold_otsu(im_in)\n",
    "segmented_image = (im_in >= threshold_global_otsu).astype(np.int32)\n",
    "\n",
    "#Store as postprocessed image\n",
    "tifffile.imsave(\"postprocessed_example.tiff\", segmented_image.astype(np.int32))"
   ]
  },
  {
   "cell_type": "markdown",
   "metadata": {},
   "source": [
    "## Compute porosity"
   ]
  },
  {
   "cell_type": "code",
   "execution_count": 8,
   "metadata": {
    "collapsed": false
   },
   "outputs": [
    {
     "name": "stdout",
     "output_type": "stream",
     "text": [
      "Counter({1: 6425472, 0: 1574528})\n",
      "Porosity of the sample:  0.196816\n"
     ]
    }
   ],
   "source": [
    "segmented_image = tifffile.imread(\"postprocessed_example.tiff\")\n",
    "porc = Counter(segmented_image.flatten())\n",
    "print(porc)\n",
    "porosity = porc[0]/float(porc[0]+porc[1])\n",
    "print \"Porosity of the sample: \", por"
   ]
  },
  {
   "cell_type": "code",
   "execution_count": null,
   "metadata": {
    "collapsed": true
   },
   "outputs": [],
   "source": []
  }
 ],
 "metadata": {
  "anaconda-cloud": {},
  "kernelspec": {
   "display_name": "Python 2",
   "language": "python",
   "name": "python2"
  },
  "language_info": {
   "codemirror_mode": {
    "name": "ipython",
    "version": 2
   },
   "file_extension": ".py",
   "mimetype": "text/x-python",
   "name": "python",
   "nbconvert_exporter": "python",
   "pygments_lexer": "ipython2",
   "version": "2.7.11"
  }
 },
 "nbformat": 4,
 "nbformat_minor": 1
}
