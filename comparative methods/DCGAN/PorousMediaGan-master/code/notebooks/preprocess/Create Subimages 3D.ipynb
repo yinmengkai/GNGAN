{
 "cells": [
  {
   "cell_type": "code",
   "execution_count": null,
   "metadata": {
    "collapsed": false
   },
   "outputs": [],
   "source": [
    "import tifffile\n",
    "import numpy as np\n",
    "import h5py\n",
    "\n",
    "import matplotlib.pyplot as plt\n",
    "%matplotlib inline"
   ]
  },
  {
   "cell_type": "markdown",
   "metadata": {},
   "source": [
    "## Creating the Training Image Database\n",
    "\n",
    "We create the training image database by extracting sub-volumes from a the original large images at a specific overlap.\n",
    "\n",
    "### Loading the training image"
   ]
  },
  {
   "cell_type": "code",
   "execution_count": null,
   "metadata": {
    "collapsed": false
   },
   "outputs": [],
   "source": [
    "#You have to have unzipped the tif image first.\n",
    "img = tifffile.imread(\"../../../data/beadpack/original/tiff/beadpack.tif\")"
   ]
  },
  {
   "cell_type": "code",
   "execution_count": null,
   "metadata": {
    "collapsed": false
   },
   "outputs": [],
   "source": [
    "#Let's plot the typical image size so we can get an idea how big the images will be.\n",
    "plt.imshow(img[50, 0:64, 0:64], cmap=\"Greys\")"
   ]
  },
  {
   "cell_type": "code",
   "execution_count": null,
   "metadata": {
    "collapsed": false,
    "slideshow": {
     "slide_type": "-"
    }
   },
   "outputs": [],
   "source": [
    "count = 0\n",
    "\n",
    "edge_length = 128 #image dimensions\n",
    "stride = 32 #stride at which images are extracted\n",
    "\n",
    "N = edge_length\n",
    "M = edge_length\n",
    "O = edge_length\n",
    "\n",
    "I_inc = stride\n",
    "J_inc = stride\n",
    "K_inc = stride\n",
    "\n",
    "#Have to have this directory to create dataset\n",
    "target_direc = \"../../../data/beadpack/training_images/beadpack_\"\n",
    "for i in range(0, img.shape[0], I_inc):\n",
    "    for j in range(0, img.shape[1], J_inc):\n",
    "        for k in range(0, img.shape[2], K_inc):\n",
    "            subset = img[i:i+N, j:j+N, k:k+O]\n",
    "            if subset.shape == (N, M, O):\n",
    "                f = h5py.File(target_direc+str(count)+\".hdf5\", \"w\")\n",
    "                f.create_dataset('data', data=subset, dtype=\"i8\", compression=\"gzip\")\n",
    "                f.close()\n",
    "                count += 1\n",
    "print count"
   ]
  }
 ],
 "metadata": {
  "anaconda-cloud": {},
  "celltoolbar": "Slideshow",
  "kernelspec": {
   "display_name": "Python 2",
   "language": "python",
   "name": "python2"
  },
  "language_info": {
   "codemirror_mode": {
    "name": "ipython",
    "version": 2
   },
   "file_extension": ".py",
   "mimetype": "text/x-python",
   "name": "python",
   "nbconvert_exporter": "python",
   "pygments_lexer": "ipython2",
   "version": "2.7.11"
  }
 },
 "nbformat": 4,
 "nbformat_minor": 1
}
