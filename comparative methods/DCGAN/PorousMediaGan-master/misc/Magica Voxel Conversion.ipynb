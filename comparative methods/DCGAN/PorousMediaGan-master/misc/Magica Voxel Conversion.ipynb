{
 "cells": [
  {
   "cell_type": "markdown",
   "metadata": {},
   "source": [
    "## Convert Tiff to Magica .Vox file format"
   ]
  },
  {
   "cell_type": "code",
   "execution_count": 1,
   "metadata": {
    "collapsed": false
   },
   "outputs": [],
   "source": [
    "import numpy as np\n",
    "import struct\n",
    "import tifffile"
   ]
  },
  {
   "cell_type": "code",
   "execution_count": 2,
   "metadata": {
    "collapsed": false
   },
   "outputs": [
    {
     "name": "stdout",
     "output_type": "stream",
     "text": [
      "(128L, 128L, 128L) 32 0\n"
     ]
    }
   ],
   "source": [
    "im_in = tifffile.imread(\"beadpack_128_43.tiff\")\n",
    "im_in = im_in.astype(np.int8)\n",
    "    \n",
    "voxels  = im_in[0:128, 0:128, 0:128]*32\n",
    "print voxels.shape, voxels.max(), voxels.min()"
   ]
  },
  {
   "cell_type": "code",
   "execution_count": 3,
   "metadata": {
    "collapsed": false
   },
   "outputs": [
    {
     "name": "stdout",
     "output_type": "stream",
     "text": [
      "8388612 8388648 8388668\n"
     ]
    }
   ],
   "source": [
    "nbVoxels = len(voxels.flatten())\n",
    "xyziChunkNbBytes = 4 + nbVoxels * 4\n",
    "mainChunkNbBytes = 24 + 12 + xyziChunkNbBytes\n",
    "totalNbBytes = 20 + mainChunkNbBytes\n",
    "\n",
    "print xyziChunkNbBytes, mainChunkNbBytes, totalNbBytes\n",
    "\n",
    "fout = open('beadpack_sampled.vox', 'wb')\n",
    "\n",
    "fout.write(struct.pack('<I', 542658390)) #VOX\n",
    "fout.write(struct.pack('<I', 150)) #version\n",
    "fout.write(struct.pack('<I', 1313423693)) #MAIN\n",
    "fout.write(struct.pack('<I', 0)) #main content size\n",
    "fout.write(struct.pack('<I', mainChunkNbBytes)) #main children size\n",
    "\n",
    "fout.write(struct.pack('<I', 1163544915)) #SIZE\n",
    "fout.write(struct.pack('<I', 12)) #size content size\n",
    "fout.write(struct.pack('<I', 0)) #size children size\n",
    "fout.write(struct.pack('<I', voxels.shape[0])) #size x\n",
    "fout.write(struct.pack('<I', voxels.shape[1])) #size y\n",
    "fout.write(struct.pack('<I', voxels.shape[2])) #size z\n",
    "\n",
    "fout.write(struct.pack('<I', 1230657880)) #XYZI\n",
    "fout.write(struct.pack('<I', xyziChunkNbBytes)) #xyzi content size\n",
    "fout.write(struct.pack('<I', 0)) #xyzi children size\n",
    "fout.write(struct.pack('<I', nbVoxels)) #xyzi children size\n",
    "\n",
    "for i in range(voxels.shape[0]):\n",
    "    for j in range(voxels.shape[1]):\n",
    "        for k in range(voxels.shape[2]):\n",
    "            fout.write(struct.pack('<b', i)) #x\n",
    "            fout.write(struct.pack('<b', j)) #y\n",
    "            fout.write(struct.pack('<b', k)) #z\n",
    "            fout.write(struct.pack('<b', voxels[i, j, k])) #c\n",
    "\n",
    "fout.close()"
   ]
  },
  {
   "cell_type": "code",
   "execution_count": null,
   "metadata": {
    "collapsed": true
   },
   "outputs": [],
   "source": []
  }
 ],
 "metadata": {
  "anaconda-cloud": {},
  "kernelspec": {
   "display_name": "Python 2",
   "language": "python",
   "name": "python2"
  },
  "language_info": {
   "codemirror_mode": {
    "name": "ipython",
    "version": 2
   },
   "file_extension": ".py",
   "mimetype": "text/x-python",
   "name": "python",
   "nbconvert_exporter": "python",
   "pygments_lexer": "ipython2",
   "version": "2.7.11"
  }
 },
 "nbformat": 4,
 "nbformat_minor": 1
}
